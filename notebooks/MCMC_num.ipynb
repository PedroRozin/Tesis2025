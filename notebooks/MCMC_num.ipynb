{
 "cells": [
  {
   "cell_type": "markdown",
   "id": "9ea7abb6",
   "metadata": {},
   "source": [
    "# MCMC Cosmological Analysis\n",
    "Converted from MCMC_num.py to Jupyter Notebook format."
   ]
  },
  {
   "cell_type": "code",
   "execution_count": null,
   "id": "59abd37a",
   "metadata": {},
   "outputs": [],
   "source": [
    "import numpy as np\n",
    "import matplotlib.pyplot as plt\n",
    "import emcee  # Library for implementing the MCMC method\n",
    "import corner  # Library for plotting figures with contours and pyramids.\n",
    "from scipy.integrate import simpson\n",
    "from scipy.integrate import solve_ivp\n",
    "import pandas as pd"
   ]
  },
  {
   "cell_type": "markdown",
   "id": "b74109e8",
   "metadata": {},
   "source": [
    "## Extract initial and final $a$, $\\delta_\\mathrm{cdm}$, and $\\delta'_\\mathrm{cdm}$ from CLASS output\n",
    "This cell reads the CLASS transfer function output file, extracts the initial and final values of the scale factor $a$, $\\delta_\\mathrm{cdm}$, and $\\delta'_\\mathrm{cdm}$ for the smallest $k$ (largest scale), and prints them for use as initial conditions in ODE integration."
   ]
  },
  {
   "cell_type": "code",
   "execution_count": null,
   "id": "5339e689",
   "metadata": {},
   "outputs": [
    {
     "name": "stderr",
     "output_type": "stream",
     "text": [
      "/tmp/ipykernel_39522/3709003542.py:6: FutureWarning: The 'delim_whitespace' keyword in pd.read_csv is deprecated and will be removed in a future version. Use ``sep='\\s+'`` instead\n",
      "  df = pd.read_csv(\n"
     ]
    }
   ],
   "source": [
    "import pandas as pd\n",
    "\n",
    "# Path to CLASS output file\n",
    "path = \"/home/pedrorozin/scripts/class_public/output/test_delta_prime_07_perturbations_k0_s.dat\"\n",
    "\n",
    "df = pd.read_csv(\n",
    "    path,\n",
    "    comment='#',\n",
    "    delim_whitespace=True,\n",
    "    header=None,\n",
    "    skiprows=1  \n",
    ")\n",
    "\n",
    "def set_column_names(df, path):\n",
    "\n",
    "    with open(path) as f:\n",
    "        for line in f:\n",
    "            if line.startswith('#') and ':' in line:\n",
    "                columns = [col.split(':')[1].strip() for col in line[1:].split('  ') if ':' in col]\n",
    "                df.columns = columns\n",
    "                break\n",
    "    return df\n",
    "\n",
    "df= set_column_names(df, path)\n",
    "# print(df.keys())"
   ]
  },
  {
   "cell_type": "code",
   "execution_count": 39,
   "id": "ded8b53f",
   "metadata": {},
   "outputs": [],
   "source": [
    "a = df['a']\n",
    "delta_cdm = df['delta_cdm']\n",
    "a_0= a[0]\n",
    "a_f = a[len(a)-1]\n",
    "delta_cdm_0 = delta_cdm[0]"
   ]
  },
  {
   "cell_type": "code",
   "execution_count": 40,
   "id": "a644f631",
   "metadata": {},
   "outputs": [],
   "source": [
    "# METHODS, DATA AND CONSTANTS\n",
    "Om_r=5.38*10**(-5)\n",
    "# a_0=10**(-3)\n",
    "# a_f=1\n",
    "\n",
    "def Hh(params,a):\n",
    "    Om_m_0, s8=params\n",
    "    Om_L=1-Om_m_0-Om_r\n",
    "    return np.sqrt(Om_L+Om_m_0/a**3+Om_r/a**4)\n",
    "\n",
    "def Hh_p(params,a):\n",
    "    Om_m_0, s8=params\n",
    "    Om_L = 1-Om_m_0-Om_r\n",
    "    num = (3*Om_m_0/a**4+4*Om_r/a**5)\n",
    "    den = 2*np.sqrt(Om_L+Om_m_0/a**3+Om_r/a**4)\n",
    "    return -num/den"
   ]
  },
  {
   "cell_type": "code",
   "execution_count": 41,
   "id": "acb89139",
   "metadata": {},
   "outputs": [],
   "source": [
    "def fs8(params,a): #fs8  \n",
    "    Om_m_0, s8=params\n",
    "    a=np.array(a)    \n",
    "    def F(a,X):\n",
    "        f1=X[1] \n",
    "        term1=X[0]*3*Om_m_0/(2*(Hh(params,a)**2)*(a**5))\n",
    "        term2=-X[1]*((3/a)+(Hh_p(params,a)/Hh(params,a)))\n",
    "        f2=term1+term2\n",
    "        return np.array([f1,f2])\n",
    "    a_vec=np.linspace(a_0,a_f,2000)\n",
    "    atol, rtol = 1e-15, 1e-12\n",
    "    out2 = solve_ivp(fun = F, t_span = [a_0,a_f], y0 = np.array([a_0,1]),\n",
    "                    t_eval = a_vec, method = 'RK45')\n",
    "    delta_num=out2.y[0]\n",
    "    delta_p_num=out2.y[1]\n",
    "    delta_today=delta_num[-1]\n",
    "    fs8_teo=[]\n",
    "    for i in range(len(a)):\n",
    "        a_val=a[i]\n",
    "        indice = np.argmin(np.abs(np.array(a_vec) - a_val))\n",
    "        fs8_teo.append(s8*a[i]*delta_p_num[indice]/delta_today)\n",
    "    return fs8_teo"
   ]
  },
  {
   "cell_type": "code",
   "execution_count": 42,
   "id": "f2a9eab4",
   "metadata": {},
   "outputs": [],
   "source": [
    "def Integrando(params):\n",
    "    Om_m_0, s8 = params\n",
    "    return lambda a: 1/((a**2)*Hh(params,a))\n",
    "\n",
    "def dL(params,a):\n",
    "    Om_m_0, s8=params    \n",
    "    x = np.linspace(a, 1, 500)\n",
    "    y = Integrando((Om_m_0, s8))(x)\n",
    "    return simpson(y, x)"
   ]
  },
  {
   "cell_type": "code",
   "execution_count": 43,
   "id": "ba5e950a",
   "metadata": {},
   "outputs": [],
   "source": [
    "z = [0.02, 0.02, 0.02, 0.10, 0.15, 0.17, 0.18, 0.38, 0.25, 0.37, 0.32, 0.59, 0.44, 0.60, 0.73, 0.60, 0.86, 1.40]\n",
    "fs8_data = [0.428, 0.398, 0.314, 0.370, 0.490, 0.510, 0.360, 0.440, 0.3512, 0.4602, 0.384, 0.488, 0.413, 0.390, 0.437, 0.550, 0.400, 0.482]\n",
    "err = [0.0465, 0.065, 0.048, 0.130, 0.145, 0.060, 0.090, 0.060, 0.0583, 0.0378, 0.095, 0.060, 0.080, 0.063, 0.072, 0.120, 0.110, 0.116]\n",
    "fid_Om_m=[0.3,0.3,0.266,0.3,0.31,0.3,0.27,0.27,0.25,0.25,0.274,0.307115,0.27,0.27,0.27,0.3,0.3,0.270]\n",
    "a_prueba=np.array(z)\n",
    "a_prueba=1/(1+a_prueba)\n",
    "z_prueba=np.array(z)\n",
    "# DEFINITION OF THE SCALE FACTOR DATA VECTOR\n",
    "a=[]\n",
    "for i in range(len(z)):\n",
    "    a.append(1/(1+z[i]))\n",
    "a_data=sorted(a)"
   ]
  },
  {
   "cell_type": "code",
   "execution_count": 44,
   "id": "760e2321",
   "metadata": {},
   "outputs": [],
   "source": [
    "def ratio(params):\n",
    "    Om_m_0,s8=params\n",
    "    rat=[]\n",
    "    for i in range(len(a)):\n",
    "        params_fid=fid_Om_m[i],0.8\n",
    "        rat.append((Hh(params,a[i])*dL(params,a[i]))/(Hh(params_fid,a[i])*dL(params_fid,a[i])))\n",
    "    return np.array(rat)"
   ]
  },
  {
   "cell_type": "code",
   "execution_count": 7,
   "id": "8b50be09",
   "metadata": {},
   "outputs": [],
   "source": [
    "# COVARIANCE MATRIX\n",
    "sigmas1=[]\n",
    "for i in range(11):\n",
    "    sigmas1.append(1/err[i]**2)\n",
    "sigmas1=np.array(sigmas1)\n",
    "sigmas2=[]\n",
    "for i in range(15,18):\n",
    "    sigmas2.append(1/err[i]**2)\n",
    "sigmas2=np.array(sigmas2)    \n",
    "diag_values_1 = sigmas1\n",
    "non_diag_values = np.linalg.inv(10**(-3)*np.array([[6.400,2.570,0.000],[2.570,3.969,2.540],[0.00,2.540,5.184]]))\n",
    "diag_values_2 = sigmas2\n",
    "cov_matrix = np.zeros((18, 18))\n",
    "np.fill_diagonal(cov_matrix, np.concatenate([diag_values_1, diag_values_2]))\n",
    "cov_matrix[12:15, 12:15] = non_diag_values"
   ]
  },
  {
   "cell_type": "code",
   "execution_count": 45,
   "id": "0f719a54",
   "metadata": {},
   "outputs": [],
   "source": [
    "# LIKELIHOOD AND POSTERIOR\n",
    "def log_likelihood(params, a_data, fs8_data, fs8_err):\n",
    "    Om_m_0, s8  = params\n",
    "    fs8_teo=fs8(params,a_data)\n",
    "    rati=ratio(params)\n",
    "    V=np.array(fs8_data)-np.array(rati*fs8_teo)\n",
    "    chi2=V@cov_matrix@V\n",
    "    loglike = -0.5 * chi2\n",
    "    return loglike\n",
    "\n",
    "def log_posterior(params, a_data, fs8_data, fs8_err):\n",
    "    Om_m_0, s8  = params\n",
    "    if 0.05 < Om_m_0 < 0.7 and 0.5 < s8 < 1.3 :\n",
    "        logpost = log_likelihood(params, a_data, fs8_data, fs8_err)\n",
    "    else:\n",
    "        logpost = -np.inf\n",
    "    return logpost"
   ]
  },
  {
   "cell_type": "code",
   "execution_count": 46,
   "id": "eeea6364",
   "metadata": {},
   "outputs": [
    {
     "name": "stdout",
     "output_type": "stream",
     "text": [
      "-7.014763715351337\n"
     ]
    },
    {
     "data": {
      "image/png": "[encoded data removed]",
      "text/plain": [
       "<Figure size 640x480 with 1 Axes>"
      ]
     },
     "metadata": {},
     "output_type": "display_data"
    }
   ],
   "source": [
    "Omegam,sigma8=0.272,0.802\n",
    "params=Omegam,sigma8\n",
    "fsigma8_prueba=fs8(params, a)\n",
    "fsigma8_prueba=sorted(fsigma8_prueba)\n",
    "like=log_likelihood(params, a_prueba, fs8_data, err)\n",
    "print(like)\n",
    "\n",
    "plt.figure()\n",
    "plt.plot(z_prueba,fsigma8_prueba,'r.')\n",
    "plt.errorbar(z_prueba,fs8_data,err)\n",
    "plt.xlabel('z')\n",
    "plt.ylabel('fs8')\n",
    "plt.ylim(0.1,0.8)\n",
    "plt.show()"
   ]
  },
  {
   "cell_type": "markdown",
   "id": "f964b08a",
   "metadata": {},
   "source": [
    "# Extract and plot $\\delta_{cdm}$ vs $a$\n",
    "The following cell defines a function to return the scale factor array and the corresponding $\\delta_{cdm}$ from the ODE integration, and then plots them."
   ]
  },
  {
   "cell_type": "markdown",
   "id": "8cd6b25d",
   "metadata": {},
   "source": [
    "## Extract initial and final $a$, $\\delta_\\mathrm{cdm}$, and $\\delta'_\\mathrm{cdm}$ from CLASS output\n",
    "This cell reads the CLASS transfer function output file, extracts the initial and final values of the scale factor $a$, $\\delta_\\mathrm{cdm}$, and $\\delta'_\\mathrm{cdm}$ for the smallest $k$ (largest scale), and prints them for use as initial conditions in ODE integration."
   ]
  },
  {
   "cell_type": "code",
   "execution_count": 33,
   "id": "45e0dd14",
   "metadata": {},
   "outputs": [
    {
     "name": "stderr",
     "output_type": "stream",
     "text": [
      "/tmp/ipykernel_39522/3709003542.py:6: FutureWarning: The 'delim_whitespace' keyword in pd.read_csv is deprecated and will be removed in a future version. Use ``sep='\\s+'`` instead\n",
      "  df = pd.read_csv(\n"
     ]
    }
   ],
   "source": [
    "import pandas as pd\n",
    "\n",
    "# Path to CLASS output file\n",
    "path = \"/home/pedrorozin/scripts/class_public/output/test_delta_prime_07_perturbations_k0_s.dat\"\n",
    "\n",
    "df = pd.read_csv(\n",
    "    path,\n",
    "    comment='#',\n",
    "    delim_whitespace=True,\n",
    "    header=None,\n",
    "    skiprows=1  \n",
    ")\n",
    "\n",
    "def set_column_names(df, path):\n",
    "\n",
    "    with open(path) as f:\n",
    "        for line in f:\n",
    "            if line.startswith('#') and ':' in line:\n",
    "                columns = [col.split(':')[1].strip() for col in line[1:].split('  ') if ':' in col]\n",
    "                df.columns = columns\n",
    "                break\n",
    "    return df\n",
    "\n",
    "df= set_column_names(df, path)\n",
    "# print(df.keys())"
   ]
  },
  {
   "cell_type": "code",
   "execution_count": 23,
   "id": "e83ed080",
   "metadata": {},
   "outputs": [],
   "source": [
    "a = df['a']\n",
    "delta_cdm = df['delta_cdm']\n",
    "a0= a[0]\n",
    "af = a[len(a)-1]\n",
    "delta_cdm_0 = delta_cdm[0]"
   ]
  },
  {
   "cell_type": "markdown",
   "id": "2f72c78c",
   "metadata": {},
   "source": [
    "## ploteo:"
   ]
  },
  {
   "cell_type": "code",
   "execution_count": 47,
   "id": "ac3620d0",
   "metadata": {},
   "outputs": [
    {
     "data": {
      "image/png": "[encoded data removed]",
      "text/plain": [
       "<Figure size 640x480 with 1 Axes>"
      ]
     },
     "metadata": {},
     "output_type": "display_data"
    }
   ],
   "source": [
    "def get_delta_cdm_vs_a(params):\n",
    "    a_vec = np.linspace(a_0, a_f, 2000)\n",
    "    def F(a, X):\n",
    "        f1 = X[1]\n",
    "        term1 = X[0] * 3 * params[0] / (2 * (Hh(params, a) ** 2) * (a ** 5))\n",
    "        term2 = -X[1] * ((3 / a) + (Hh_p(params, a) / Hh(params, a)))\n",
    "        f2 = term1 + term2\n",
    "        return np.array([f1, f2])\n",
    "    out2 = solve_ivp(fun=F, t_span=[a_0, a_f], y0=np.array([a_0, 1]),\n",
    "                     t_eval=a_vec, method='RK45')\n",
    "    delta_num = out2.y[0]\n",
    "    return a_vec, delta_num\n",
    "\n",
    "\n",
    "# params = (a0, delta_cdm_0)  \n",
    "params=Omegam,sigma8\n",
    "a_vec, delta_cdm = get_delta_cdm_vs_a(params)\n",
    "\n",
    "plt.figure()\n",
    "plt.plot(a_vec, delta_cdm, label=r\"$\\delta_{cdm}(a)$ Luca\")\n",
    "plt.plot(df['a'], -df['delta_cdm'], label=r\"$\\delta_{cdm}(a)$ CLASS\")\n",
    "plt.xlabel('Scale factor $a$')\n",
    "plt.ylabel(r\"$\\delta_{cdm}$\")\n",
    "# logscale in y and x\n",
    "plt.yscale('log')\n",
    "plt.xscale('log')\n",
    "plt.title(r\"Evolution of $\\delta_{cdm}$ vs $a$\")\n",
    "plt.legend()\n",
    "plt.grid(True)\n",
    "plt.show()"
   ]
  },
  {
   "cell_type": "code",
   "execution_count": 30,
   "id": "f2b49035",
   "metadata": {},
   "outputs": [
    {
     "data": {
      "text/plain": [
       "[<matplotlib.lines.Line2D at 0x7f660287b7c0>]"
      ]
     },
     "execution_count": 30,
     "metadata": {},
     "output_type": "execute_result"
    },
    {
     "data": {
      "image/png": "[encoded data removed]",
      "text/plain": [
       "<Figure size 640x480 with 1 Axes>"
      ]
     },
     "metadata": {},
     "output_type": "display_data"
    }
   ],
   "source": [
    "plt.plot(df['a'], df['delta_cdm'], label=r\"$\\delta_{cdm}(a)$ Luca\")"
   ]
  },
  {
   "cell_type": "markdown",
   "id": "11c8ca42",
   "metadata": {},
   "source": [
    "# el resto de luca:"
   ]
  },
  {
   "cell_type": "code",
   "execution_count": null,
   "id": "5471ab74",
   "metadata": {},
   "outputs": [],
   "source": [
    "# MCMC SETUP\n",
    "ndim     = 2\n",
    "nwalkers = 10\n",
    "nsteps   = 10000\n",
    "init0    = 0.3\n",
    "init1    = 0.8\n",
    "p0 = np.array([init0, init1])\n",
    "p0 = p0 + np.zeros( (nwalkers, ndim) )\n",
    "p0[:,0] = p0[:,0] + np.random.uniform( low=-0.1, high=0.1, size=nwalkers )\n",
    "p0[:,1] = p0[:,1] + np.random.uniform( low=-0.1, high=0.1, size=nwalkers )\n",
    "\n",
    "backend   = emcee.backends.HDFBackend('chain_num.h5')\n",
    "backend.reset(nwalkers, ndim)\n",
    "sampler = emcee.EnsembleSampler( nwalkers, ndim, log_posterior, args=(a, fs8_data, err),backend=backend)\n",
    "\n",
    "max_n = nsteps\n",
    "index = 0\n",
    "autocorr = np.empty(max_n)\n",
    "old_tau = np.inf\n",
    "for sample in sampler.sample(p0, iterations=max_n, progress=True):\n",
    "    if sampler.iteration % 100:\n",
    "        continue\n",
    "    tau = sampler.get_autocorr_time(tol=0)\n",
    "    autocorr[index] = np.mean(tau)\n",
    "    index += 1\n",
    "    converged = np.all(tau * 100 < sampler.iteration)\n",
    "    converged &= np.all(np.abs(old_tau - tau) / tau < 0.01)\n",
    "    if converged:\n",
    "        break\n",
    "    old_tau = tau"
   ]
  },
  {
   "cell_type": "code",
   "execution_count": null,
   "id": "168c6695",
   "metadata": {},
   "outputs": [],
   "source": [
    "# Save witness file\n",
    "witness_file = 'witness_num.txt'\n",
    "textfile_witness = open(witness_file,'w+')\n",
    "textfile_witness.close()"
   ]
  },
  {
   "cell_type": "code",
   "execution_count": null,
   "id": "0d236bfd",
   "metadata": {},
   "outputs": [],
   "source": [
    "# Plot the evolution of the chains\n",
    "from matplotlib.ticker import MaxNLocator\n",
    "plt.figure()\n",
    "fig, ax = plt.subplots( ndim, 1, sharex=True, figsize=(8,9) )\n",
    "ax0 = ax[0]\n",
    "ax1 = ax[1]\n",
    "ax0.plot( sampler.chain[:, :, 0].T, color=\"k\", alpha=0.4 )\n",
    "ax0.yaxis.set_major_locator(MaxNLocator(5))\n",
    "ax0.axhline(init0, color=\"#888888\", lw=2)\n",
    "ax0.set_ylabel(\"$\\Omega_{m0}$\")\n",
    "ax1.plot(sampler.chain[:, :, 1].T, color=\"k\", alpha=0.4)\n",
    "ax1.yaxis.set_major_locator(MaxNLocator(5))\n",
    "ax1.axhline(init1, color=\"#888888\", lw=2)\n",
    "ax1.set_ylabel(\"$\\sigma_8$\")\n",
    "fig.tight_layout()\n",
    "fig.savefig('chains_num.png')\n",
    "plt.show()"
   ]
  },
  {
   "cell_type": "code",
   "execution_count": null,
   "id": "f532b3d9",
   "metadata": {},
   "outputs": [],
   "source": [
    "# Posterior analysis\n",
    "samples = sampler.chain[:, :, :].reshape( (-1, ndim) )\n",
    "post_probs = np.exp( sampler.flatlnprobability - np.max(sampler.flatlnprobability) )\n",
    "best_fit_params = samples[ np.argmax(post_probs), : ]\n",
    "print( 'Best fit parameters: Om_m={:.3f}, s_8={:.3f}'.format(*best_fit_params) )\n",
    "meann_bfit = np.mean(samples, axis=0)\n",
    "std_bfit   = np.std( samples, axis=0)\n",
    "fig = corner.corner( samples, labels=[ \"$\\Omega_{m0}$\", \"$\\sigma_8$\"], truths=[init0, init1], \\\n",
    "                              quantiles=[0.16, 0.50], bins=40, plot_datapoints = True, \\\n",
    "                              scale_hist=True )\n",
    "plt.show()\n",
    "fig.savefig('triangplot_num.png')\n",
    "plt.close()"
   ]
  },
  {
   "cell_type": "code",
   "execution_count": null,
   "id": "3dc5f2f4",
   "metadata": {},
   "outputs": [],
   "source": [
    "# Extract and plot delta_cdm (growth factor) vs scale factor a\n",
    "params = (Omegam, sigma8)\n",
    "a_vec = np.linspace(a_0, a_f, 2000)\n",
    "\n",
    "def F(a, X):\n",
    "    f1 = X[1]\n",
    "    term1 = X[0] * 3 * Omegam / (2 * (Hh(params, a) ** 2) * (a ** 5))\n",
    "    term2 = -X[1] * ((3 / a) + (Hh_p(params, a) / Hh(params, a)))\n",
    "    f2 = term1 + term2\n",
    "    return np.array([f1, f2])\n",
    "\n",
    "out2 = solve_ivp(fun=F, t_span=[a_0, a_f], y0=np.array([a_0, 1]),\n",
    "                 t_eval=a_vec, method='RK45')\n",
    "delta_num = out2.y[0]\n",
    "\n",
    "plt.figure(figsize=(7,5))\n",
    "plt.plot(a_vec, delta_num, label=r\"$\\delta_{cdm}(a)$\")\n",
    "plt.xlabel('Scale factor $a$')\n",
    "plt.ylabel(r\"$\\delta_{cdm}$ (unnormalized)\")\n",
    "plt.title(r\"Evolution of $\\delta_{cdm}$ vs $a$\")\n",
    "plt.legend()\n",
    "plt.grid(True)\n",
    "plt.show()"
   ]
  },
  {
   "cell_type": "markdown",
   "id": "e7410571",
   "metadata": {},
   "source": [
    "# Extract initial and final $a$, $\\delta_\\mathrm{cdm}$, and $\\delta'_\\mathrm{cdm}$ from CLASS output\n",
    "This cell reads the CLASS transfer function output file, extracts the initial and final values of the scale factor $a$, $\\delta_\\mathrm{cdm}$, and $\\delta'_\\mathrm{cdm}$ for the smallest $k$ (largest scale), and prints them for use as initial conditions in ODE integration."
   ]
  },
  {
   "cell_type": "code",
   "execution_count": null,
   "id": "6387d1b3",
   "metadata": {},
   "outputs": [
    {
     "name": "stdout",
     "output_type": "stream",
     "text": [
      "Initial conditions (first row for smallest k):\n",
      "k = 1.35019e-05\n",
      "delta_cdm(a0) = -1.37584e+00\n",
      "delta_cdm'(a0) = -9.31769e-05\n",
      "\n",
      "Final conditions (last row for smallest k):\n",
      "delta_cdm(af) = -1.37584e+00\n",
      "delta_cdm'(af) = -9.31769e-05\n"
     ]
    }
   ],
   "source": [
    "import pandas as pd\n",
    "\n",
    "# Path to CLASS output file\n",
    "class_output_path = \"/home/pedrorozin/scripts/class_public/output/test_delta_prime_03_tk.dat\"\n",
    "\n",
    "# Read CLASS output, skipping comment lines\n",
    "with open(class_output_path) as f:\n",
    "    lines = [line for line in f if not line.strip().startswith('#') and line.strip()]\n",
    "\n",
    "data = [list(map(float, line.split())) for line in lines]\n",
    "df_class = pd.DataFrame(data)\n",
    "\n",
    "# Columns: 0=k, 1=d_g, 2=d_b, 3=d_cdm, 4=d_ur, 5=d_prime_cdm, ...\n",
    "# Select the smallest k (first unique k value)\n",
    "k0 = df_class[0].unique()[0]\n",
    "df_k0 = df_class[df_class[0] == k0]\n",
    "\n",
    "# Initial and final rows for this k\n",
    "a_initial = df_k0.index[0]\n",
    "a_final = df_k0.index[-1]\n",
    "row_initial = df_k0.iloc[0]\n",
    "row_final = df_k0.iloc[-1]\n",
    "\n",
    "# Extract values\n",
    "delta_cdm_initial = row_initial[3]\n",
    "delta_cdm_prime_initial = row_initial[5]\n",
    "delta_cdm_final = row_final[3]\n",
    "delta_cdm_prime_final = row_final[5]\n",
    "\n",
    "print(\"Initial conditions (first row for smallest k):\")\n",
    "print(f\"k = {k0:.5e}\")\n",
    "print(f\"delta_cdm(a0) = {delta_cdm_initial:.5e}\")\n",
    "print(f\"delta_cdm'(a0) = {delta_cdm_prime_initial:.5e}\")\n",
    "\n",
    "print(\"\\nFinal conditions (last row for smallest k):\")\n",
    "print(f\"delta_cdm(af) = {delta_cdm_final:.5e}\")\n",
    "print(f\"delta_cdm'(af) = {delta_cdm_prime_final:.5e}\")"
   ]
  }
 ],
 "metadata": {
  "kernelspec": {
   "display_name": "venv",
   "language": "python",
   "name": "python3"
  },
  "language_info": {
   "codemirror_mode": {
    "name": "ipython",
    "version": 3
   },
   "file_extension": ".py",
   "mimetype": "text/x-python",
   "name": "python",
   "nbconvert_exporter": "python",
   "pygments_lexer": "ipython3",
   "version": "3.10.12"
  }
 },
 "nbformat": 4,
 "nbformat_minor": 5
}

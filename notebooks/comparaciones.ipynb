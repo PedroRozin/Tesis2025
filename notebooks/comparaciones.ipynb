{
 "cells": [
  {
   "cell_type": "code",
   "execution_count": 1,
   "id": "85334917",
   "metadata": {},
   "outputs": [],
   "source": [
    "import numpy as np\n",
    "import pandas as pd\n",
    "import sys\n",
    "import matplotlib.pyplot as plt\n",
    "from scipy.integrate import solve_ivp\n",
    "from scipy.interpolate import interp1d\n",
    "# sys.path.append('/home/pedrorozin/scripts/python') #uncomment para agregar el path. yo lo tengo instalado en mi venv\n",
    "import funciones_tesis as ft\n"
   ]
  },
  {
   "cell_type": "markdown",
   "id": "28b66df0",
   "metadata": {},
   "source": [
    "## Comparación $\\delta_m$ vs $\\delta_{cdm}$ para distintos k's"
   ]
  },
  {
   "cell_type": "code",
   "execution_count": 2,
   "id": "4db91695",
   "metadata": {},
   "outputs": [
    {
     "ename": "TypeError",
     "evalue": "compute_delta_m() missing 3 required positional arguments: 'delta_b', 'omega_cdm', and 'omega_b'",
     "output_type": "error",
     "traceback": [
      "\u001b[0;31m---------------------------------------------------------------------------\u001b[0m",
      "\u001b[0;31mTypeError\u001b[0m                                 Traceback (most recent call last)",
      "Cell \u001b[0;32mIn[2], line 7\u001b[0m\n\u001b[1;32m      3\u001b[0m ft\u001b[38;5;241m.\u001b[39mread_ini_params(ini_path)\n\u001b[1;32m      6\u001b[0m df \u001b[38;5;241m=\u001b[39m ft\u001b[38;5;241m.\u001b[39mread_adhoc_txt(path)\n\u001b[0;32m----> 7\u001b[0m df[\u001b[38;5;124m'\u001b[39m\u001b[38;5;124mdelta_m\u001b[39m\u001b[38;5;124m'\u001b[39m] \u001b[38;5;241m=\u001b[39m \u001b[43mft\u001b[49m\u001b[38;5;241;43m.\u001b[39;49m\u001b[43mcompute_delta_m\u001b[49m\u001b[43m(\u001b[49m\u001b[43mdf\u001b[49m\u001b[43m)\u001b[49m\n\u001b[1;32m      8\u001b[0m df\u001b[38;5;241m.\u001b[39mhead()\n",
      "\u001b[0;31mTypeError\u001b[0m: compute_delta_m() missing 3 required positional arguments: 'delta_b', 'omega_cdm', and 'omega_b'"
     ]
    }
   ],
   "source": [
    "path = '/home/pedrorozin/scripts/class_public/delta_prime_cdm.txt'\n",
    "ini_path = '/home/pedrorozin/scripts/class_public/test_delta_prime_gauge_newtonian.ini'\n",
    "ft.read_ini_params(ini_path)\n",
    "\n",
    "\n",
    "df = ft.read_adhoc_txt(path)\n",
    "df['delta_m'] = ft.compute_delta_m(df)\n",
    "df.head()"
   ]
  },
  {
   "cell_type": "code",
   "execution_count": null,
   "id": "743b4823",
   "metadata": {},
   "outputs": [],
   "source": []
  },
  {
   "cell_type": "code",
   "execution_count": 5,
   "id": "ef09ffbc",
   "metadata": {},
   "outputs": [
    {
     "name": "stdout",
     "output_type": "stream",
     "text": [
      "Docstring for compute_delta_m:\n",
      "\n",
      "  Compute the total matter density perturbation from CDM and baryonic perturbations.\n",
      "\n",
      "  Args:\n",
      "    delta_cdm (float): CDM density perturbation.\n",
      "    delta_b (float): Baryonic density perturbation.\n",
      "    omega_cdm (float): Omega_cdm value.\n",
      "    omega_b (float): Omega_b value.\n",
      "\n",
      "  Returns:\n",
      "    array or float128: Total matter density perturbation.\n",
      "  \n",
      "\n",
      "==================================================\n",
      "\n",
      "Help for compute_delta_m:\n",
      "Help on function compute_delta_m in module funciones_tesis:\n",
      "\n",
      "compute_delta_m(delta_cdm, delta_b, omega_cdm, omega_b)\n",
      "    Compute the total matter density perturbation from CDM and baryonic perturbations.\n",
      "    \n",
      "    Args:\n",
      "      delta_cdm (float): CDM density perturbation.\n",
      "      delta_b (float): Baryonic density perturbation.\n",
      "      omega_cdm (float): Omega_cdm value.\n",
      "      omega_b (float): Omega_b value.\n",
      "    \n",
      "    Returns:\n",
      "      array or float128: Total matter density perturbation.\n",
      "\n"
     ]
    }
   ],
   "source": [
    "# Solution 1: Reload the module to refresh docstrings\n",
    "import importlib\n",
    "import funciones_tesis as ft\n",
    "importlib.reload(ft)\n",
    "\n",
    "# Solution 2: Check if docstrings are available\n",
    "print(\"Docstring for compute_delta_m:\")\n",
    "print(ft.compute_delta_m.__doc__)\n",
    "print(\"\\n\" + \"=\"*50 + \"\\n\")\n",
    "\n",
    "# Solution 3: Check help information\n",
    "print(\"Help for compute_delta_m:\")\n",
    "help(ft.compute_delta_m)"
   ]
  },
  {
   "cell_type": "markdown",
   "id": "37a71d0b",
   "metadata": {},
   "source": [
    "## Soluciones para ver docstrings en VS Code\n",
    "\n",
    "El problema es que VS Code a veces no reconoce los docstrings de módulos instalados. Aquí están las soluciones:\n",
    "\n",
    "### ✅ Solución 1: Usar `importlib.reload()`\n",
    "Ya ejecutamos esto arriba - recarga el módulo para que VS Code reconozca los docstrings.\n",
    "\n",
    "### ✅ Solución 2: Reiniciar el Kernel\n",
    "- Ve al menú: `Kernel` → `Restart`\n",
    "- Luego vuelve a ejecutar tus celdas de import\n",
    "\n",
    "### ✅ Solución 3: Usar extensiones de Python\n",
    "- Asegúrate de tener instalada la extensión oficial de Python de Microsoft\n",
    "- Instala también la extensión \"Pylance\" para mejor soporte de IntelliSense\n",
    "\n",
    "### ✅ Solución 4: Configurar VS Code settings\n",
    "Agrega esto a tu `settings.json` de VS Code:\n",
    "```json\n",
    "{\n",
    "    \"python.analysis.autoImportCompletions\": true,\n",
    "    \"python.analysis.typeCheckingMode\": \"basic\"\n",
    "}\n",
    "```\n",
    "\n",
    "### ✅ Solución 5: Si nada funciona\n",
    "Usa `help(ft.función_name)` o `ft.función_name.__doc__` directamente en el código."
   ]
  },
  {
   "cell_type": "code",
   "execution_count": 6,
   "id": "4b90d9ea",
   "metadata": {},
   "outputs": [
    {
     "name": "stdout",
     "output_type": "stream",
     "text": [
      "✅ Try hovering over the function names above!\n",
      "If it still doesn't work, try:\n",
      "1. Restart the kernel (Kernel → Restart)\n",
      "2. Re-run the import cells\n",
      "3. Check if you have the Python and Pylance extensions installed\n"
     ]
    }
   ],
   "source": [
    "# Test: Hover over these function names to see if docstrings appear\n",
    "# After running the reload above, these should show documentation on hover:\n",
    "\n",
    "# Hover over 'read_adhoc_txt' - should show its docstring\n",
    "data = ft.read_adhoc_txt\n",
    "\n",
    "# Hover over 'compute_delta_m' - should show its docstring  \n",
    "compute_func = ft.compute_delta_m\n",
    "\n",
    "# Hover over 'common_settings' - should show its docstring\n",
    "settings_func = ft.common_settings\n",
    "\n",
    "print(\"✅ Try hovering over the function names above!\")\n",
    "print(\"If it still doesn't work, try:\")\n",
    "print(\"1. Restart the kernel (Kernel → Restart)\")\n",
    "print(\"2. Re-run the import cells\")\n",
    "print(\"3. Check if you have the Python and Pylance extensions installed\")"
   ]
  }
 ],
 "metadata": {
  "kernelspec": {
   "display_name": "venv",
   "language": "python",
   "name": "python3"
  },
  "language_info": {
   "codemirror_mode": {
    "name": "ipython",
    "version": 3
   },
   "file_extension": ".py",
   "mimetype": "text/x-python",
   "name": "python",
   "nbconvert_exporter": "python",
   "pygments_lexer": "ipython3",
   "version": "3.10.12"
  }
 },
 "nbformat": 4,
 "nbformat_minor": 5
}
